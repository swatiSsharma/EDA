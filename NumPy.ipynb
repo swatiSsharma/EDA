{
 "cells": [
  {
   "cell_type": "markdown",
   "id": "0827ff64",
   "metadata": {},
   "source": [
    "# NumPy\n",
    "\n",
    "NumPy is a low level library written in C (and FORTRAN) for high level mathematical functions. NumPy cleverly overcomes the problem of running slower algorithms on Python by using multidimensional arrays and functions that operate on arrays. Any algorithm can then be expressed as a function on arrays, allowing the algorithms ti be run quickly."
   ]
  },
  {
   "cell_type": "markdown",
   "id": "c8ebfd56",
   "metadata": {},
   "source": [
    "## **What is NumPy**\n",
    "\n",
    "- The fundamental package for scientific computing in Python\n",
    "- A python Library that provides a multidimensional array objecy, various derived objects"
   ]
  },
  {
   "cell_type": "markdown",
   "id": "c3bbd8cc",
   "metadata": {},
   "source": [
    "## **What is NumPy Array?**\n",
    "\n",
    "An array is a grid of valuesand it contains information about the raw data, how to locate an element, and how to interpret an element\n",
    "\n",
    "1) 1D Array\n",
    "```\n",
    "7 2 9 10 \n",
    "----->\n",
    "axis 0\n",
    "\n",
    "shape: (4,) Ie column\n",
    "``` \n",
    "\n",
    "2) 2D Array\n",
    "```\n",
    "axis 0|  5.2  3.0  4.5\n",
    "      |  9.1  0.1  0.3\n",
    "      < ------->\n",
    "      axis 1 \n",
    "      \n",
    "Shape:(2, 3) Ie rows, column\n",
    "```\n",
    "\n",
    "3) 3D Array\n",
    "```\n",
    "shape: (4, 3, 2) Ie 4 rows 3 columns 2 depth\n"
   ]
  },
  {
   "cell_type": "markdown",
   "id": "5a3b391d",
   "metadata": {},
   "source": [
    "## **NumPy VS Python List**\n",
    "\n",
    "***ADVANTAGES of using NumPy arrays over python list***\n",
    "\n",
    "- consume less memory\n",
    "- fast as compared to the python List\n",
    "- convenient to use"
   ]
  },
  {
   "cell_type": "markdown",
   "id": "a1f8bd39",
   "metadata": {},
   "source": [
    "## **Installation & Import NumPy**\n",
    "!pip install numpy"
   ]
  },
  {
   "cell_type": "code",
   "execution_count": 1,
   "id": "af94a9cb",
   "metadata": {},
   "outputs": [],
   "source": [
    "import numpy as np"
   ]
  },
  {
   "cell_type": "code",
   "execution_count": 2,
   "id": "f44f235a",
   "metadata": {},
   "outputs": [
    {
     "name": "stdout",
     "output_type": "stream",
     "text": [
      "[1 2 3 4] <class 'numpy.ndarray'>\n",
      "[1, 2, 3, 4] <class 'list'>\n"
     ]
    }
   ],
   "source": [
    "# Creating numpy array\n",
    "arr = np.array([1, 2, 3, 4])\n",
    "print(arr, type(arr)) # numpy and dimensional array\n",
    "\n",
    "lst = [1, 2, 3, 4]\n",
    "print(lst, type(lst))"
   ]
  },
  {
   "cell_type": "markdown",
   "id": "9fdac5ae",
   "metadata": {},
   "source": [
    "## **Importance of NumPy in Python**\n",
    "\n",
    "- Wide variety of mathematical operations on arrays.\n",
    "- It supplies an enormous library of high-level mathematical functions that operate on these arrays and matrices.\n",
    "- Mathematical, logical, shape manipulation, sorting, selecting, 1/0, discrete Fourier transforms, basic linear algebra, basic stastical operations, random simulation and much more.\n",
    "\n",
    "***\n",
    "***"
   ]
  },
  {
   "cell_type": "markdown",
   "id": "71876a5c",
   "metadata": {},
   "source": [
    "## NumPy Arrays vs. Python Lists - What is the Difference? \n",
    "\n",
    "**Basic Difference**\n",
    "\n",
    "- Data type storage (List can store heterogenous data where as Numpy Array stores homogenous data type)\n",
    "- Importing module (List no module or package installation required)\n",
    "- Numerical operation (List is capable and is less efficient, numpy array works on matrix performance and hence are highly efficient)\n",
    "- Modification capabilities\n",
    "- Consumes less memory\n",
    "- Fast as compared to the python list\n",
    "- Convenient to use"
   ]
  },
  {
   "cell_type": "markdown",
   "id": "48c18f32",
   "metadata": {},
   "source": [
    "## Check - Convenient to use\n",
    "\n",
    "%timeit --> creating one line  \n",
    "%%timeit --> complete program  "
   ]
  },
  {
   "cell_type": "code",
   "execution_count": 3,
   "id": "9cf8de22",
   "metadata": {},
   "outputs": [
    {
     "name": "stdout",
     "output_type": "stream",
     "text": [
      "2.78 µs ± 46.7 ns per loop (mean ± std. dev. of 7 runs, 100000 loops each)\n"
     ]
    }
   ],
   "source": [
    "%timeit [j**4 for j in range(1,9)]"
   ]
  },
  {
   "cell_type": "code",
   "execution_count": 4,
   "id": "2641a076",
   "metadata": {},
   "outputs": [
    {
     "name": "stdout",
     "output_type": "stream",
     "text": [
      "1.97 µs ± 35.1 ns per loop (mean ± std. dev. of 7 runs, 100000 loops each)\n"
     ]
    }
   ],
   "source": [
    "%timeit np.arange(1,9)**4"
   ]
  },
  {
   "cell_type": "markdown",
   "id": "aa9f2d88",
   "metadata": {},
   "source": [
    "## Creating NumPy Array / How to create NumPy Array\n",
    "\n",
    "To create a NumPy Array, we can use the function **np.array()**"
   ]
  },
  {
   "cell_type": "code",
   "execution_count": 6,
   "id": "cb88c669",
   "metadata": {},
   "outputs": [
    {
     "name": "stdout",
     "output_type": "stream",
     "text": [
      "[1 2 3]\n"
     ]
    },
    {
     "data": {
      "text/plain": [
       "array([1, 2, 3])"
      ]
     },
     "execution_count": 6,
     "metadata": {},
     "output_type": "execute_result"
    }
   ],
   "source": [
    "a = np.array([1, 2, 3])\n",
    "print(a)\n",
    "a"
   ]
  },
  {
   "cell_type": "code",
   "execution_count": 7,
   "id": "140d47cf",
   "metadata": {},
   "outputs": [
    {
     "data": {
      "text/plain": [
       "numpy.ndarray"
      ]
     },
     "execution_count": 7,
     "metadata": {},
     "output_type": "execute_result"
    }
   ],
   "source": [
    "type(a)"
   ]
  },
  {
   "cell_type": "code",
   "execution_count": 9,
   "id": "17cc38f4",
   "metadata": {},
   "outputs": [
    {
     "name": "stdout",
     "output_type": "stream",
     "text": [
      "Enter the value: 325\n",
      "Enter the value: 436\n",
      "Enter the value: 3245\n",
      "Enter the value: 235\n",
      "[ 325  436 3245  235]\n"
     ]
    }
   ],
   "source": [
    "l = []\n",
    "\n",
    "for i in range(1,5):\n",
    "    int_1 = int(input(\"Enter the value: \"))\n",
    "    l.append(int_1)\n",
    "\n",
    "print(np.array(l))"
   ]
  },
  {
   "cell_type": "markdown",
   "id": "30f3dd05",
   "metadata": {},
   "source": [
    "## Dimensions in Array\n",
    "\n",
    "- 1-D Array  -->   [ 1 2 3 4 ]\n",
    "- 2-D Array  -->  [[ 1 2 3 4 ]]\n",
    "- 3-D Array  --> [[[ 1 2 3 4 ]]]\n",
    "- higher Dimensional Arrays  --> \n",
    "\n",
    "## How to identify the dimension of array\n",
    "\n",
    "To identify the dimension of the array we need to go left to right and count the number of square brackets ie  equivalent to the dimension of the NumPy Array. Practically can be implemented as below"
   ]
  },
  {
   "cell_type": "code",
   "execution_count": 10,
   "id": "4c0c182f",
   "metadata": {},
   "outputs": [
    {
     "data": {
      "text/plain": [
       "1"
      ]
     },
     "execution_count": 10,
     "metadata": {},
     "output_type": "execute_result"
    }
   ],
   "source": [
    "# identifying array dimension\n",
    "a.ndim"
   ]
  },
  {
   "cell_type": "code",
   "execution_count": 18,
   "id": "3f119fd9",
   "metadata": {},
   "outputs": [
    {
     "name": "stdout",
     "output_type": "stream",
     "text": [
      "[[1 2 3 4]\n",
      " [1 2 3 4]] \n",
      " 2\n"
     ]
    }
   ],
   "source": [
    "arr2 = np.array([[ 1, 2, 3, 4 ], [ 1, 2, 3, 4 ]]) # the size of both list should be same\n",
    "print(arr2, \"\\n\",arr2.ndim )"
   ]
  },
  {
   "cell_type": "code",
   "execution_count": 20,
   "id": "9bab48be",
   "metadata": {},
   "outputs": [
    {
     "name": "stdout",
     "output_type": "stream",
     "text": [
      "[[[[[[[[[[1 2 3 4]]]]]]]]]]\n",
      "10\n"
     ]
    }
   ],
   "source": [
    "arr3 = np.array([1,2,3,4], ndmin = 10) # 10 -d array\n",
    "print(arr3)\n",
    "print(arr3.ndim)"
   ]
  },
  {
   "cell_type": "markdown",
   "id": "88a8bc57",
   "metadata": {},
   "source": [
    "## Special NumPy Array\n",
    "\n",
    "**How to Create NumPy Array using NumPy Function**\n",
    "\n",
    "- Array filled with 0's\n",
    "- Array filled with 1's\n",
    "- Create an empty array\n",
    "- An array with a range of elements\n",
    "- Array diagonal element filled with 1's\n",
    "- create an array with values that are spaced linearly in a specified interval"
   ]
  },
  {
   "cell_type": "markdown",
   "id": "e6f4f5ac",
   "metadata": {},
   "source": [
    "### Array filled with 0's"
   ]
  },
  {
   "cell_type": "code",
   "execution_count": 22,
   "id": "7fe15922",
   "metadata": {},
   "outputs": [
    {
     "name": "stdout",
     "output_type": "stream",
     "text": [
      "[0. 0. 0. 0.]\n",
      "\n",
      " [[0. 0. 0. 0.]\n",
      " [0. 0. 0. 0.]\n",
      " [0. 0. 0. 0.]]\n"
     ]
    }
   ],
   "source": [
    "# 1-D Array\n",
    "arr_zero = np.zeros(4) # number of values\n",
    "print(arr_zero)\n",
    "\n",
    "# 2-D Array\n",
    "arr_zero = np.zeros((3,4)) # enter dimensions\n",
    "print('\\n',arr_zero)"
   ]
  },
  {
   "cell_type": "markdown",
   "id": "971cb6df",
   "metadata": {},
   "source": [
    "### Array filled with 1's"
   ]
  },
  {
   "cell_type": "code",
   "execution_count": 24,
   "id": "3131d603",
   "metadata": {},
   "outputs": [
    {
     "name": "stdout",
     "output_type": "stream",
     "text": [
      "[1. 1. 1. 1.]\n",
      "\n",
      " [[1. 1. 1. 1.]\n",
      " [1. 1. 1. 1.]\n",
      " [1. 1. 1. 1.]]\n"
     ]
    }
   ],
   "source": [
    "# 1-D Array\n",
    "arr_one = np.ones(4) # number of values\n",
    "print(arr_one)\n",
    "\n",
    "# 2-D Array\n",
    "arr_one = np.ones((3,4)) # enter dimensions\n",
    "print('\\n',arr_one)"
   ]
  },
  {
   "cell_type": "markdown",
   "id": "27ffcb2d",
   "metadata": {},
   "source": [
    "### Create an empty array"
   ]
  },
  {
   "cell_type": "code",
   "execution_count": 26,
   "id": "238871f1",
   "metadata": {},
   "outputs": [
    {
     "name": "stdout",
     "output_type": "stream",
     "text": [
      "[1. 1. 1. 1.]\n",
      "\n",
      " [[1. 1. 1. 1.]\n",
      " [1. 1. 1. 1.]\n",
      " [1. 1. 1. 1.]]\n"
     ]
    }
   ],
   "source": [
    "arr_empty = np.empty(4) # number of values\n",
    "print(arr_empty)\n",
    "\n",
    "# 2-D Array\n",
    "arr_empty = np.empty((3,4)) # enter dimensions\n",
    "print('\\n',arr_empty)"
   ]
  },
  {
   "cell_type": "markdown",
   "id": "db069f9e",
   "metadata": {},
   "source": [
    "### An array with a range of elements"
   ]
  },
  {
   "cell_type": "code",
   "execution_count": 29,
   "id": "57a11105",
   "metadata": {},
   "outputs": [
    {
     "name": "stdout",
     "output_type": "stream",
     "text": [
      "[0 1 2 3]\n"
     ]
    }
   ],
   "source": [
    "# 1-D Array\n",
    "arr_rng = np.arange(4) # similar to range in for loop\n",
    "print(arr_rng)"
   ]
  },
  {
   "cell_type": "markdown",
   "id": "5212bd01",
   "metadata": {},
   "source": [
    "### Array diagonal element filled with 1's / Identity matrix"
   ]
  },
  {
   "cell_type": "code",
   "execution_count": 31,
   "id": "deae1d61",
   "metadata": {},
   "outputs": [
    {
     "name": "stdout",
     "output_type": "stream",
     "text": [
      "[[1. 0. 0. 0. 0.]\n",
      " [0. 1. 0. 0. 0.]\n",
      " [0. 0. 1. 0. 0.]]\n"
     ]
    }
   ],
   "source": [
    "arr_dia = np.eye(3, 5)\n",
    "print(arr_dia)"
   ]
  },
  {
   "cell_type": "markdown",
   "id": "94151688",
   "metadata": {},
   "source": [
    "### Create an array with values that are spaced linearly in a specified interval"
   ]
  },
  {
   "cell_type": "code",
   "execution_count": 32,
   "id": "7f8890f1",
   "metadata": {},
   "outputs": [
    {
     "name": "stdout",
     "output_type": "stream",
     "text": [
      "[ 1.    3.25  5.5   7.75 10.  ]\n"
     ]
    }
   ],
   "source": [
    "# Linspace : craetes an array with gap\n",
    "\n",
    "arr_gap = np.linspace(1,10, num=5)\n",
    "print(arr_gap)"
   ]
  },
  {
   "cell_type": "code",
   "execution_count": 33,
   "id": "4ec40815",
   "metadata": {},
   "outputs": [
    {
     "name": "stdout",
     "output_type": "stream",
     "text": [
      "[ 0.   2.5  5.   7.5 10. ]\n"
     ]
    }
   ],
   "source": [
    "arr_gap = np.linspace(0,10, num=5)\n",
    "print(arr_gap)"
   ]
  },
  {
   "cell_type": "code",
   "execution_count": 34,
   "id": "7dc4e9c5",
   "metadata": {},
   "outputs": [
    {
     "name": "stdout",
     "output_type": "stream",
     "text": [
      "[ 0.  5. 10. 15. 20.]\n"
     ]
    }
   ],
   "source": [
    "arr_gap = np.linspace(0,20, num=5)\n",
    "print(arr_gap)"
   ]
  },
  {
   "cell_type": "markdown",
   "id": "1275135d",
   "metadata": {},
   "source": [
    "## How to Create NumPy Arrays with Random Numbers\n",
    "\n",
    "1) rand(): the function is used to generate a random value between 0 to 1  \n",
    "2) randn(): the function is used to generate a random value close to zero. This may return positive or negative numbers as well  \n",
    "3) ranf(): the function for doing random sampling in numpy. It returns an array of specified shape and fills it with random floats in the half-open intervals [0.0, 1.0) ie   1.0 is excluded\n",
    "4) randint(): the function is used to generate a random number between a given range  "
   ]
  },
  {
   "cell_type": "code",
   "execution_count": 36,
   "id": "03914f02",
   "metadata": {},
   "outputs": [],
   "source": [
    "import random "
   ]
  },
  {
   "cell_type": "markdown",
   "id": "3806d503",
   "metadata": {},
   "source": [
    "### rand()"
   ]
  },
  {
   "cell_type": "code",
   "execution_count": 37,
   "id": "3201b808",
   "metadata": {},
   "outputs": [
    {
     "name": "stdout",
     "output_type": "stream",
     "text": [
      "[0.66390735 0.66131545]\n",
      "\n",
      "<class 'numpy.ndarray'>\n"
     ]
    }
   ],
   "source": [
    "var = np.random.rand(2) # the value entered is the dimension of the array\n",
    "\n",
    "print(var)\n",
    "print()\n",
    "print(type(var))"
   ]
  },
  {
   "cell_type": "code",
   "execution_count": 38,
   "id": "8804064e",
   "metadata": {},
   "outputs": [
    {
     "name": "stdout",
     "output_type": "stream",
     "text": [
      "[[0.12318129 0.81151948 0.03865923 0.83404868]\n",
      " [0.48712537 0.36527129 0.84649903 0.05349253]]\n"
     ]
    }
   ],
   "source": [
    "var1 = np.random.rand(2,4)\n",
    "\n",
    "print(var1)"
   ]
  },
  {
   "cell_type": "markdown",
   "id": "63610bf1",
   "metadata": {},
   "source": [
    "### randn()"
   ]
  },
  {
   "cell_type": "code",
   "execution_count": 39,
   "id": "cf743bcc",
   "metadata": {},
   "outputs": [
    {
     "name": "stdout",
     "output_type": "stream",
     "text": [
      "[-0.46332473 -0.67525217  1.03331865  1.17361576 -0.43132682]\n"
     ]
    }
   ],
   "source": [
    "var2 = np.random.randn(5)\n",
    "\n",
    "print(var2)"
   ]
  },
  {
   "cell_type": "markdown",
   "id": "84bf0721",
   "metadata": {},
   "source": [
    "### ranf()"
   ]
  },
  {
   "cell_type": "code",
   "execution_count": 40,
   "id": "0a050f0d",
   "metadata": {},
   "outputs": [
    {
     "name": "stdout",
     "output_type": "stream",
     "text": [
      "[0.13539395 0.62447255 0.44262335 0.48918315]\n"
     ]
    }
   ],
   "source": [
    "var3 = np.random.ranf(4)\n",
    "print(var3)"
   ]
  },
  {
   "cell_type": "markdown",
   "id": "aba90ec2",
   "metadata": {},
   "source": [
    "### randint()"
   ]
  },
  {
   "cell_type": "code",
   "execution_count": 42,
   "id": "32821840",
   "metadata": {},
   "outputs": [
    {
     "name": "stdout",
     "output_type": "stream",
     "text": [
      "[19 12 16  8 16]\n"
     ]
    }
   ],
   "source": [
    "# raandint(min, max, total_values)\n",
    "\n",
    "var4 = np.random.randint(5, 20, 5)\n",
    "print(var4)"
   ]
  },
  {
   "cell_type": "markdown",
   "id": "e383c2c2",
   "metadata": {},
   "source": [
    "## What is Data Type of NumPy Array?"
   ]
  },
  {
   "cell_type": "code",
   "execution_count": null,
   "id": "325d4941",
   "metadata": {},
   "outputs": [],
   "source": []
  },
  {
   "cell_type": "code",
   "execution_count": null,
   "id": "94af34cd",
   "metadata": {},
   "outputs": [],
   "source": []
  },
  {
   "cell_type": "code",
   "execution_count": null,
   "id": "f4093185",
   "metadata": {},
   "outputs": [],
   "source": []
  },
  {
   "cell_type": "code",
   "execution_count": null,
   "id": "5b293adb",
   "metadata": {},
   "outputs": [],
   "source": []
  },
  {
   "cell_type": "code",
   "execution_count": null,
   "id": "434069f8",
   "metadata": {},
   "outputs": [],
   "source": []
  },
  {
   "cell_type": "code",
   "execution_count": null,
   "id": "fb839ae8",
   "metadata": {},
   "outputs": [],
   "source": []
  }
 ],
 "metadata": {
  "kernelspec": {
   "display_name": "Python 3 (ipykernel)",
   "language": "python",
   "name": "python3"
  },
  "language_info": {
   "codemirror_mode": {
    "name": "ipython",
    "version": 3
   },
   "file_extension": ".py",
   "mimetype": "text/x-python",
   "name": "python",
   "nbconvert_exporter": "python",
   "pygments_lexer": "ipython3",
   "version": "3.9.13"
  }
 },
 "nbformat": 4,
 "nbformat_minor": 5
}
