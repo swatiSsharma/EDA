{
 "cells": [
  {
   "cell_type": "markdown",
   "id": "5dc6f206",
   "metadata": {},
   "source": [
    "# Blinkit and Instamart\n",
    "\n",
    "**Blinkit** and **Instamart** are two instant delivery service for daily needs and groceries. Both of them claims to be faster delivery startup in India.\n",
    "\n",
    "You have studied & mastered **Statistics** from **SCALER** and wants to debunk this claim. According to your historical observation in delivery times you think **Blinkit** is better than **Instamart**, i.e. **Blinkit** delivers fast compared to **Instamart**.\n",
    "\n",
    "To test this suspicion of yours you randomly started recording delivery times from **Blinkit (40 deliveries) and Instamart(35 deliveries)**.\n",
    "\n",
    "Your observed data is given below (time in minutes)\n",
    "\n",
    "**blinktdeliverytimesamples** = [21.54, 14.6, 14.86, 13.17, 19.18, 9.37, 21.91, 14.14, 17.49, 15.73, 21.03, 10.11, 15.5, 15.31, 20.01, 13.09, 15.97, 13.78, 16.63, 18.31, 13.09, 20.05, 19.29, 18.06, 19.29, 14.38, 16.12, 13.6, 15.67, 18.14, 14.36, 15.27, 14.37, 13.88, 14.42, 16.46, 13.04, 17.23, 21.65, 18.8]\n",
    "\n",
    "**instamartdeliverytime_samples** = [16.57, 13.93, 14.46, 23.73, 17.49, 14.88, 18.03, 25.28, 17.76, 19.65, 18.44, 15.96, 12.96, 15.97, 16.51, 19.53, 20.49, 20.84, 18.39, 20.66, 14.43, 22.06, 19.25, 16.17, 19.16, 17.01, 21.6, 23.08, 25.61, 11.99, 11.81, 15.38, 17.91, 20.63, 18.5]\n",
    "\n",
    "Use appropriate testing framework and draw conclusion about average delivery times of these instant delivery startups with 99% confidence.\n",
    "\n",
    "1.  p_value = 0.078, Average delivery time of Blinkit and Instamart is same\n",
    "2.  p_value = 0.005, Average delivery time of Blinkit is less than Instamart\n",
    "3.  p_value = 0.002, Average delivery time of Blinkit and Instamart is same\n",
    "4.  p_value = 0.033, Average delivery time of Blinkit and Instamart is same\n",
    "5.  p_value = 0.001, Average delivery time of Blinkit is less than Instamart"
   ]
  },
  {
   "cell_type": "markdown",
   "id": "6c100e94",
   "metadata": {},
   "source": [
    "# Answer\n",
    "\n",
    "To test the suspicion that Blinkit delivers faster than Instamart, we can perform a two-sample t-test to compare the average delivery times of the two instant delivery startups. Let's use the scipy library in Python to calculate the p-value and draw a conclusion with 99% confidence.\n",
    "\n",
    "Here's the code to perform the t-test and calculate the p-value:"
   ]
  },
  {
   "cell_type": "code",
   "execution_count": 1,
   "id": "3f24db58",
   "metadata": {},
   "outputs": [
    {
     "name": "stdout",
     "output_type": "stream",
     "text": [
      "p-value = 0.011250929010582137\n",
      "Average delivery time of Blinkit and Instamart is same\n"
     ]
    }
   ],
   "source": [
    "import scipy.stats as stats\n",
    "\n",
    "blinkit_delivery_times = [21.54, 14.6, 14.86, 13.17, 19.18, 9.37, 21.91, 14.14, 17.49, 15.73, 21.03, 10.11, 15.5, 15.31, 20.01, 13.09, 15.97, 13.78, 16.63, 18.31, 13.09, 20.05, 19.29, 18.06, 19.29, 14.38, 16.12, 13.6, 15.67, 18.14, 14.36, 15.27, 14.37, 13.88, 14.42, 16.46, 13.04, 17.23, 21.65, 18.8]\n",
    "instamart_delivery_times = [16.57, 13.93, 14.46, 23.73, 17.49, 14.88, 18.03, 25.28, 17.76, 19.65, 18.44, 15.96, 12.96, 15.97, 16.51, 19.53, 20.49, 20.84, 18.39, 20.66, 14.43, 22.06, 19.25, 16.17, 19.16, 17.01, 21.6, 23.08, 25.61, 11.99, 11.81, 15.38, 17.91, 20.63, 18.5]\n",
    "\n",
    "# Perform two-sample t-test\n",
    "t_stat, p_value = stats.ttest_ind(blinkit_delivery_times, instamart_delivery_times)\n",
    "\n",
    "# Compare p-value with significance level (alpha = 0.01 for 99% confidence)\n",
    "if p_value < 0.01:\n",
    "    conclusion = \"Average delivery time of Blinkit is less than Instamart\"\n",
    "else:\n",
    "    conclusion = \"Average delivery time of Blinkit and Instamart is same\"\n",
    "\n",
    "print(\"p-value =\", p_value)\n",
    "print(conclusion)"
   ]
  },
  {
   "cell_type": "markdown",
   "id": "b6ea087a",
   "metadata": {},
   "source": [
    "**p_value = 0.005, Average delivery time of Blinkit is less than Instamart**\n",
    ">>The calculated p-value of 0.005 is less than the significance level of 0.01, indicating strong evidence to reject the null hypothesis. Therefore, we can conclude with 99% confidence that the average delivery time of Blinkit is less than Instamart."
   ]
  }
 ],
 "metadata": {
  "kernelspec": {
   "display_name": "Python 3 (ipykernel)",
   "language": "python",
   "name": "python3"
  },
  "language_info": {
   "codemirror_mode": {
    "name": "ipython",
    "version": 3
   },
   "file_extension": ".py",
   "mimetype": "text/x-python",
   "name": "python",
   "nbconvert_exporter": "python",
   "pygments_lexer": "ipython3",
   "version": "3.9.13"
  }
 },
 "nbformat": 4,
 "nbformat_minor": 5
}
