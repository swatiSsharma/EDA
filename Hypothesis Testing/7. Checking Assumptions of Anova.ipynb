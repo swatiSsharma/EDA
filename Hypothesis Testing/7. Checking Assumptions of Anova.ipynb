{
 "cells": [
  {
   "cell_type": "markdown",
   "id": "d7d25520",
   "metadata": {},
   "source": [
    "# Checking Assumptions of Anova\n",
    "Use the exact code below to generate data for 2 samples.\n",
    "\n",
    "**import numpy as np**\n",
    "**from scipy.stats import norm**\n",
    "\n",
    "**np.random.seed(1)**\n",
    "\n",
    "**sample_1 = np.random.normal(size=1000)**\n",
    "**sample_2 = sample_1 + np.random.normal(size = 1000)**\n",
    "\n",
    "We need to check if can apply ANOVA on these sample or not.\n",
    "\n",
    "Assumptions you need test:\n",
    "\n",
    "- Is the data in both samples normally distributed?\n",
    "- Does the distributions have the same variances?\n",
    "\n",
    "Use 95% confidence level to test above assumtions with appropriate test.\n",
    "\n",
    "Select the correct option -\n",
    "\n",
    "\n",
    "1. Leven test for checking Gaussian ,Shapiro test for checking equal varaince, Conclusion : Both Samples follow normal distribution, Both Samples Have equal variances\n",
    "2. Shapiro test for checking Gaussian , Levene test for checking equal varaince, Conclusion : Both Samples follow normal distribution, Both Samples Have equal variances\n",
    "3. Shapiro test for checking Gaussian , Levene test for checking equal varaince, Conclusion : Both Samples follow normal distribution, Both Samples Have different variances\n",
    "4. Leven test for checking Gaussian ,Shapiro test for checking equal varaince, Conclusion : Sample_2 doesn't follow normal distribution, Both samples Have different variances"
   ]
  },
  {
   "cell_type": "markdown",
   "id": "17fe5642",
   "metadata": {},
   "source": [
    "# Answer\n",
    "To test the assumptions for applying ANOVA on the given samples, we can perform the Shapiro-Wilk test for normality and the Levene test for equal variances. Here's the code to perform these tests:"
   ]
  },
  {
   "cell_type": "code",
   "execution_count": 1,
   "id": "a26190a0",
   "metadata": {},
   "outputs": [
    {
     "name": "stdout",
     "output_type": "stream",
     "text": [
      "Shapiro p-values: 0.2497403621673584 0.854202389717102\n",
      "Levene p-value: 1.156331471167546e-26\n",
      "Conclusion: Both Samples follow normal distribution, Sample(s) have different variances\n"
     ]
    }
   ],
   "source": [
    "from scipy.stats import shapiro, levene\n",
    "import numpy as np\n",
    "from scipy.stats import norm\n",
    "\n",
    "np.random.seed(1)\n",
    "\n",
    "sample_1 = np.random.normal(size=1000)\n",
    "sample_2 = sample_1 + np.random.normal(size=1000)\n",
    "\n",
    "# Shapiro-Wilk test for normality\n",
    "_, p_value_1 = shapiro(sample_1)\n",
    "_, p_value_2 = shapiro(sample_2)\n",
    "\n",
    "# Levene test for equal variances\n",
    "_, p_value_levene = levene(sample_1, sample_2)\n",
    "\n",
    "# Compare p-values with the significance level (alpha = 0.05 for 95% confidence level)\n",
    "if p_value_1 > 0.05 and p_value_2 > 0.05:\n",
    "    normality_conclusion = \"Both Samples follow normal distribution\"\n",
    "else:\n",
    "    normality_conclusion = \"Sample(s) do not follow normal distribution\"\n",
    "\n",
    "if p_value_levene > 0.05:\n",
    "    variance_conclusion = \"Both Samples have equal variances\"\n",
    "else:\n",
    "    variance_conclusion = \"Sample(s) have different variances\"\n",
    "\n",
    "print(\"Shapiro p-values:\", p_value_1, p_value_2)\n",
    "print(\"Levene p-value:\", p_value_levene)\n",
    "print(\"Conclusion:\", normality_conclusion + \", \" + variance_conclusion)"
   ]
  },
  {
   "cell_type": "markdown",
   "id": "81209262",
   "metadata": {},
   "source": [
    "**Shapiro test for checking Gaussian, Levene test for checking equal variance, Conclusion: Both Samples follow a normal distribution, Both Samples Have different variances**\n",
    ">> - By performing the Shapiro-Wilk test, we determine whether the data in both samples follows a normal distribution. The p-values from the tests are compared to the significance level of 0.05. If both p-values are greater than 0.05, we conclude that both samples follow a normal distribution.  \n",
    ">> - Additionally, the Levene test is used to check if the samples have equal variances. If the p-value from the Levene test is greater than 0.05, we conclude that the samples have equal variances.  \n",
    ">> - Based on the p-values and conclusions from the tests, we can infer that both samples follow a normal distribution, but they have different variances."
   ]
  }
 ],
 "metadata": {
  "kernelspec": {
   "display_name": "Python 3 (ipykernel)",
   "language": "python",
   "name": "python3"
  },
  "language_info": {
   "codemirror_mode": {
    "name": "ipython",
    "version": 3
   },
   "file_extension": ".py",
   "mimetype": "text/x-python",
   "name": "python",
   "nbconvert_exporter": "python",
   "pygments_lexer": "ipython3",
   "version": "3.9.13"
  }
 },
 "nbformat": 4,
 "nbformat_minor": 5
}
