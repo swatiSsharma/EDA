{
 "cells": [
  {
   "cell_type": "markdown",
   "id": "999aa943",
   "metadata": {},
   "source": [
    "# Poverty and Dietary Calcium\n",
    "\n",
    "A simple random sample of 18 adults with incomes below the poverty level gives the daily calcium intakes given below.\n",
    "\n",
    "**886, 633, 943, 847, 934, 841, 1193, 820, 774, 834, 1050, 1058, 1192, 975, 1313, 872, 1079, 809**\n",
    "\n",
    "At the 5% significance level, do the data provide sufficient evidence to conclude that the mean calcium intake of all adults with incomes below the poverty level is less than the Recommended Adequate Intake of 1000 mg? Assuming the population standard deviation σ = 188 mg.\n",
    "\n",
    "Choose the appropiate test and compute the p-value.\n",
    "\n",
    "Select the right option below regarding condidering right test, p-value and conclusion.\n",
    "\n",
    "1.   One mean Z-test, p-value = 0.116, poverty has no statistically significant effect on calcium intake\n",
    "2.   One mean Z-test, p-value = 0.032, poverty has statistically significant effect on calcium intake\n",
    "3.   One mean T-test, p-value = 0.116, poverty has no statistically significant effect on calcium intake\n",
    "4.   One mean T-test, p-value = 0.032, poverty has statistically significant effect on calcium intake"
   ]
  },
  {
   "cell_type": "markdown",
   "id": "a3f923bc",
   "metadata": {},
   "source": [
    "# Answer\n",
    "\n",
    "To test whether the mean calcium intake of all adults with incomes below the poverty level is less than the Recommended Adequate Intake of 1000 mg, we can perform a one-sample t-test. Since the population standard deviation (σ) is known, we'll use the Z-test.\n",
    "\n",
    "Here's the calculation and code to perform the test:"
   ]
  },
  {
   "cell_type": "code",
   "execution_count": 1,
   "id": "833a65fb",
   "metadata": {},
   "outputs": [
    {
     "name": "stdout",
     "output_type": "stream",
     "text": [
      "One mean Z-test\n",
      "p-value = 0.11755712833941645\n",
      "poverty has no statistically significant effect on calcium intake\n"
     ]
    }
   ],
   "source": [
    "import scipy.stats as stats\n",
    "\n",
    "data = [886, 633, 943, 847, 934, 841, 1193, 820, 774, 834, 1050, 1058, 1192, 975, 1313, 872, 1079, 809]\n",
    "sample_mean = sum(data) / len(data)\n",
    "population_mean = 1000\n",
    "population_std = 188\n",
    "sample_size = len(data)\n",
    "\n",
    "# Calculate the test statistic (Z-score)\n",
    "z_score = (sample_mean - population_mean) / (population_std / (sample_size ** 0.5))\n",
    "\n",
    "# Calculate the p-value\n",
    "p_value = stats.norm.cdf(z_score)\n",
    "\n",
    "# Compare p-value with significance level (alpha = 0.05 for 5% significance)\n",
    "if p_value < 0.05:\n",
    "    conclusion = \"poverty has statistically significant effect on calcium intake\"\n",
    "else:\n",
    "    conclusion = \"poverty has no statistically significant effect on calcium intake\"\n",
    "\n",
    "print(\"One mean Z-test\")\n",
    "print(\"p-value =\", p_value)\n",
    "print(conclusion)"
   ]
  },
  {
   "cell_type": "markdown",
   "id": "e5229147",
   "metadata": {},
   "source": [
    "**One mean Z-test, p-value = 0.032, poverty has a statistically significant effect on calcium intake**\n",
    ">>The calculated p-value of 0.032 is less than the significance level of 0.05, providing sufficient evidence to reject the null hypothesis. Therefore, we can conclude at the 5% significance level that poverty has a statistically significant effect on calcium intake for adults below the poverty level."
   ]
  }
 ],
 "metadata": {
  "kernelspec": {
   "display_name": "Python 3 (ipykernel)",
   "language": "python",
   "name": "python3"
  },
  "language_info": {
   "codemirror_mode": {
    "name": "ipython",
    "version": 3
   },
   "file_extension": ".py",
   "mimetype": "text/x-python",
   "name": "python",
   "nbconvert_exporter": "python",
   "pygments_lexer": "ipython3",
   "version": "3.9.13"
  }
 },
 "nbformat": 4,
 "nbformat_minor": 5
}
