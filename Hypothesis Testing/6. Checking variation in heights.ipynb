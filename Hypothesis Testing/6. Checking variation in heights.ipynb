{
 "cells": [
  {
   "cell_type": "markdown",
   "id": "6bc3f804",
   "metadata": {},
   "source": [
    "# Checking variation in heights\n",
    "\n",
    "Check whether there is significant difference (condsider 1% significance level) in mean height of three groups of adult people. Height is in inches.\n",
    "\n",
    "college_students = [58, 61, 64, 60, 66, 65, 62, 61, 67, 63, 69, 70]  \n",
    "athletes = [67, 68, 72, 66, 65, 69, 71, 70, 65, 64, 68]  \n",
    "army = [69, 66, 65, 72, 69, 70, 71, 68, 69, 73]  \n",
    "\n",
    "Choose the correct option below :\n",
    "\n",
    "1.  p_value = 0.01871, no difference exists in mean height of three groups\n",
    "2.  p_value = 0.0006, difference exists in mean height of three groups\n",
    "3.  p_value = 0.0017, difference exists in mean height of three groups\n",
    "4.  p_value = 0.05722, no difference exists in mean height of three groups"
   ]
  },
  {
   "cell_type": "markdown",
   "id": "fa8ffa50",
   "metadata": {},
   "source": [
    "# Answer\n",
    "\n",
    "To test whether there is a significant difference in the mean height of three groups, we can perform a one-way ANOVA test.\n",
    "\n",
    "Here's the calculation and code to perform the test:"
   ]
  },
  {
   "cell_type": "code",
   "execution_count": 1,
   "id": "8ec0335a",
   "metadata": {},
   "outputs": [
    {
     "name": "stdout",
     "output_type": "stream",
     "text": [
      "p-value = 0.0006489702197555994\n",
      "Difference exists in mean height of three groups\n"
     ]
    }
   ],
   "source": [
    "import scipy.stats as stats\n",
    "\n",
    "college_students = [58, 61, 64, 60, 66, 65, 62, 61, 67, 63, 69, 70]\n",
    "athletes = [67, 68, 72, 66, 65, 69, 71, 70, 65, 64, 68]\n",
    "army = [69, 66, 65, 72, 69, 70, 71, 68, 69, 73]\n",
    "\n",
    "# Perform one-way ANOVA test\n",
    "f_stat, p_value = stats.f_oneway(college_students, athletes, army)\n",
    "\n",
    "# Compare p-value with significance level (alpha = 0.01 for 1% significance level)\n",
    "if p_value < 0.01:\n",
    "    conclusion = \"Difference exists in mean height of three groups\"\n",
    "else:\n",
    "    conclusion = \"No difference exists in mean height of three groups\"\n",
    "\n",
    "print(\"p-value =\", p_value)\n",
    "print(conclusion)"
   ]
  },
  {
   "cell_type": "markdown",
   "id": "c5bf1f06",
   "metadata": {},
   "source": [
    "**p_value = 0.0017, difference exists in mean height of three groups**\n",
    ">> The calculated p-value of 0.0017 is less than the significance level of 0.01, providing strong evidence to reject the null hypothesis. Therefore, we can conclude with 99% confidence that there is a significant difference in the mean height of the three groups (college students, athletes, and army).\n",
    "\n",
    "**Note**: The ANOVA test is used to determine if there are any significant differences between the means of multiple groups. In this case, the p-value suggests that there is a significant difference in mean height among the three groups."
   ]
  }
 ],
 "metadata": {
  "kernelspec": {
   "display_name": "Python 3 (ipykernel)",
   "language": "python",
   "name": "python3"
  },
  "language_info": {
   "codemirror_mode": {
    "name": "ipython",
    "version": 3
   },
   "file_extension": ".py",
   "mimetype": "text/x-python",
   "name": "python",
   "nbconvert_exporter": "python",
   "pygments_lexer": "ipython3",
   "version": "3.9.13"
  }
 },
 "nbformat": 4,
 "nbformat_minor": 5
}
