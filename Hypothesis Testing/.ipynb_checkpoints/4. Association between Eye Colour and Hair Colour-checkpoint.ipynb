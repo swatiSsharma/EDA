{
 "cells": [
  {
   "cell_type": "markdown",
   "id": "e00dbd75",
   "metadata": {},
   "source": [
    "# Association between Eye Colour and Hair Colour\n",
    "\n",
    "After learning & mastering hypothesis testing from SCALER, You are very eager to conduct real life hypothesis test.\n",
    "\n",
    "Your Instructor has given you the task to find out if there's any association between humans eye colour and hair colour. For this experiment you have collected eye colour and hair colour sample data from 592 people and created the cross tab of the data shown below:\n",
    "\n",
    "Eye and hair colour  --> <B>CATEGORICAL VARIABLES</B>\n",
    "```\n",
    "\t\t                    Hair color\t\t\t\n",
    "\t\t           Black\tBlonde\tBrown\tRed\n",
    "Eye Color\tBlue\t20\t     94\t     84\t    17\n",
    "\t        Brown\t68     \t  7     119\t    26\n",
    "\t        Green\t5\t     16\t     29\t    14\n",
    "\t        Hazel\t15       10    \t 54\t    14\n",
    "```\n",
    "Choose the appropriate hypothesis test and state your findings with 99% confidence.\n",
    "\n",
    "Select the correct option-\n",
    "\n",
    "1. Test : Chi Square, p-value = 0.00237, Yes there is Statistically Significant relationship b/w eye and hair colour\n",
    "2. Test : Anova, p-value = 0.000743, There is No Statistically Significant relationship b/w eye and hair colour\n",
    "3. Test : Anova, p-value = 0.0352, There is No Statistically Significant relationship b/w eye and hair colour\n",
    "4. Test : Two sample T-Test, p-value ~ 0, Yes there is Statistically Significant relationship b/w eye and hair colour\n",
    "5. Test : Chi Square, p-value ~ 0, Yes there is Statistically Significant relationship b/w eye and hair colour"
   ]
  },
  {
   "cell_type": "markdown",
   "id": "35fe391f",
   "metadata": {},
   "source": [
    "# Answer\n",
    "\n",
    "To determine if there is an association between eye color and hair color, we can perform a chi-square test of independence.\n",
    "\n",
    "Here's the calculation and code to perform the test:\n",
    "\n",
    ">> H0 : no association b/w hair and eye color  \n",
    "   HA : association b/w hair and eye color\n",
    "   confidence "
   ]
  },
  {
   "cell_type": "code",
   "execution_count": 1,
   "id": "982bbd77",
   "metadata": {},
   "outputs": [
    {
     "name": "stdout",
     "output_type": "stream",
     "text": [
      "Test: Chi Square\n",
      "p-value = 2.325286787098839e-25\n",
      "Yes, there is a statistically significant relationship between eye and hair color.\n"
     ]
    }
   ],
   "source": [
    "import scipy.stats as stats\n",
    "\n",
    "# Observed frequencies in form of contigency table\n",
    "observed = [[20, 94, 84, 17],\n",
    "            [68, 7, 119, 26],\n",
    "            [5, 16, 29, 14],\n",
    "            [15, 10, 54, 14]]\n",
    "\n",
    "# Perform chi-square test of independence\n",
    "# chi2_contingency() returns four values, 𝜒2 value, p-value, degree of freedom and expected values.\n",
    "chi2_stat, p_value, _, _ = stats.chi2_contingency(observed)\n",
    "\n",
    "# Compare p-value with significance level (alpha = 0.01 for 99% confidence)\n",
    "if p_value < 0.01:\n",
    "    conclusion = \"Yes, there is a statistically significant relationship between eye and hair color.\"\n",
    "else:\n",
    "    conclusion = \"No, there is no statistically significant relationship between eye and hair color.\"\n",
    "\n",
    "print(\"Test: Chi Square\")\n",
    "print(\"p-value =\", p_value)\n",
    "print(conclusion)"
   ]
  },
  {
   "cell_type": "markdown",
   "id": "e28e6691",
   "metadata": {},
   "source": [
    "**Test : Two sample T-Test, p-value ~ 0, Yes there is Statistically Significant relationship b/w eye and hair colour**\n",
    ">>The calculated p-value of 0.00237* 10^25 is less than the significance level of 0.01, providing strong evidence to reject the null hypothesis. Therefore, we can conclude with 99% confidence that there is a statistically significant relationship between eye and hair color."
   ]
  }
 ],
 "metadata": {
  "kernelspec": {
   "display_name": "Python 3 (ipykernel)",
   "language": "python",
   "name": "python3"
  },
  "language_info": {
   "codemirror_mode": {
    "name": "ipython",
    "version": 3
   },
   "file_extension": ".py",
   "mimetype": "text/x-python",
   "name": "python",
   "nbconvert_exporter": "python",
   "pygments_lexer": "ipython3",
   "version": "3.9.13"
  }
 },
 "nbformat": 4,
 "nbformat_minor": 5
}
