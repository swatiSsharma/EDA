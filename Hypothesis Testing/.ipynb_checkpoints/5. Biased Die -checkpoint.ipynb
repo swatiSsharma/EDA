{
 "cells": [
  {
   "cell_type": "markdown",
   "id": "e306a327",
   "metadata": {},
   "source": [
    "# Biased Die?\n",
    "\n",
    "Rolling die 60,000 times, we observed the frequencies of outcomes as follows :\n",
    "\n",
    "outcome : frequency\n",
    "\n",
    "1 : 13,000\n",
    "\n",
    "2 : 9,000\n",
    "\n",
    "3 : 15,000\n",
    "\n",
    "4 : 3,000\n",
    "\n",
    "5 : 14,000\n",
    "\n",
    "6 : 6,000\n",
    "\n",
    "Use appropriate test procedure to test whether it's a fair die or not.\n",
    "\n",
    "Assume confidence level to be 99%\n",
    "\n",
    "1.  p-value = 0.0000, Biased Die\n",
    "2.  p-value = 0.0673, Fair Die\n",
    "3.  p-value = 0.0092, Fair Die\n",
    "4.  p-value = 0.0581, Fair Die\n",
    "5.  p-value = 0.0043, Biased Die"
   ]
  },
  {
   "cell_type": "markdown",
   "id": "6c2278b3",
   "metadata": {},
   "source": [
    "# Answer\n",
    "To test whether the die is fair or not, we can perform a chi-square goodness-of-fit test.\n",
    "\n",
    "Here's the calculation and code to perform the test:\n",
    "\n",
    "H0: The die is Fair  \n",
    "HA: The die is unfair"
   ]
  },
  {
   "cell_type": "code",
   "execution_count": 1,
   "id": "286c5bd7",
   "metadata": {},
   "outputs": [
    {
     "name": "stdout",
     "output_type": "stream",
     "text": [
      "p-value = 0.0\n",
      "Biased Die\n"
     ]
    }
   ],
   "source": [
    "import scipy.stats as stats\n",
    "\n",
    "observed = [13000, 9000, 15000, 3000, 14000, 6000]\n",
    "expected = [10000, 10000, 10000, 10000, 10000, 10000]\n",
    "\n",
    "# Perform chi-square goodness-of-fit test\n",
    "chi2_stat, p_value = stats.chisquare(observed, expected)\n",
    "\n",
    "# Compare p-value with significance level (alpha = 0.01 for 99% confidence)\n",
    "if p_value < 0.01:\n",
    "    conclusion = \"Biased Die\"\n",
    "else:\n",
    "    conclusion = \"Fair Die\"\n",
    "\n",
    "print(\"p-value =\", p_value)\n",
    "print(conclusion)"
   ]
  },
  {
   "cell_type": "markdown",
   "id": "ecdd211c",
   "metadata": {},
   "source": [
    "**p-value = 0.0000, Biased Die**\n",
    ">> The calculated p-value of 0.0000 is less than the significance level of 0.01, providing strong evidence to reject the null hypothesis. Therefore, we can conclude with 99% confidence that the die is biased, not fair.\n",
    "\n",
    "**Note**: In the observed frequencies, the counts for each outcome deviate significantly from the expected equal counts for a fair die."
   ]
  }
 ],
 "metadata": {
  "kernelspec": {
   "display_name": "Python 3 (ipykernel)",
   "language": "python",
   "name": "python3"
  },
  "language_info": {
   "codemirror_mode": {
    "name": "ipython",
    "version": 3
   },
   "file_extension": ".py",
   "mimetype": "text/x-python",
   "name": "python",
   "nbconvert_exporter": "python",
   "pygments_lexer": "ipython3",
   "version": "3.9.13"
  }
 },
 "nbformat": 4,
 "nbformat_minor": 5
}
