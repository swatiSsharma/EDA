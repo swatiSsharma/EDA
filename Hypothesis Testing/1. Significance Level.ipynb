{
 "cells": [
  {
   "cell_type": "markdown",
   "id": "1c1b3ae5",
   "metadata": {},
   "source": [
    "# Significance Level\n",
    "\n",
    "What does Significance Level (alpha) represents in a Hypothesis Test ?\n",
    "\n",
    "1.    Minimum Probability of rejecting TRUE Null hypothesis\n",
    "2.    Maximum Probability of rejecting TRUE Null hypothesis\n",
    "3.    Maximum Probability of rejecting FALSE Null hypothesis\n",
    "4.    Minimum Probability of rejecting FALSE Null hypothesis"
   ]
  },
  {
   "cell_type": "markdown",
   "id": "1f6a8a1a",
   "metadata": {},
   "source": [
    "# Answer\n",
    "\n",
    "**Minimum Probability of rejecting TRUE Null hypothesis**\n",
    "\n",
    ">> The significance level, also known as alpha (α), represents the maximum acceptable probability of rejecting a true null hypothesis. In hypothesis testing, we set a threshold for the level of evidence required to reject the null hypothesis. If the calculated p-value is less than the significance level (α), we reject the null hypothesis. By setting a lower significance level, we decrease the probability of falsely rejecting a true null hypothesis, indicating a higher level of confidence in our test results."
   ]
  }
 ],
 "metadata": {
  "kernelspec": {
   "display_name": "Python 3 (ipykernel)",
   "language": "python",
   "name": "python3"
  },
  "language_info": {
   "codemirror_mode": {
    "name": "ipython",
    "version": 3
   },
   "file_extension": ".py",
   "mimetype": "text/x-python",
   "name": "python",
   "nbconvert_exporter": "python",
   "pygments_lexer": "ipython3",
   "version": "3.9.13"
  }
 },
 "nbformat": 4,
 "nbformat_minor": 5
}
