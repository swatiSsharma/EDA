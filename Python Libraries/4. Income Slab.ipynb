{
 "cells": [
  {
   "cell_type": "markdown",
   "id": "1585bd23",
   "metadata": {},
   "source": [
    "# Income Slab\n",
    "\n",
    "**Problem Satement**\n",
    "\n",
    "Given a dataframe containing employee income information,\n",
    "Calculate & return the percentage of employees in **medium** income bracket.\n",
    "\n",
    "**Input Format**\n",
    "```\n",
    "A dataframe\n",
    "```\n",
    "**Output Format**\n",
    "```\n",
    "A floating point number\n",
    "```\n",
    "**Sample Input and Output**\n",
    "\n",
    "> Sample Input:\n",
    "```\n",
    "    name   gender income\n",
    "0   Bruno  M      low\n",
    "1   Ariana F      high\n",
    "2   Harry  M      medium\n",
    "3   Selena F      medium\n",
    "4   Weeknd M      medium\n",
    "```\n",
    "> Sample Output:\n",
    "```\n",
    "60.0\n",
    "```\n",
    "**Note**: Recall built-in operations in pandas."
   ]
  },
  {
   "cell_type": "code",
   "execution_count": 1,
   "id": "f93acb84",
   "metadata": {},
   "outputs": [
    {
     "name": "stdout",
     "output_type": "stream",
     "text": [
      "60.0\n"
     ]
    }
   ],
   "source": [
    "import pandas as pd\n",
    "\n",
    "def calculate(df):\n",
    "    '''\n",
    "    INPUT: df --> pandas dataframe\n",
    "    OUTPUT: result --> float\n",
    "    '''\n",
    "    \n",
    "    ## Step 1: Filter employees with medium income \n",
    "    medium_income = df[df['income'] == 'medium']\n",
    "    \n",
    "    ## Step 2: Calculate count of medium income employees\n",
    "    medium_income_count = len(medium_income)\n",
    "    total_count = len(df)\n",
    "    ## Step 3: Calculate percentage of medium income employees\n",
    "    result = (medium_income_count/total_count)*100\n",
    "    \n",
    "    return result\n",
    "    '''Another Solution - One liner'''\n",
    "    # return (len(df[df['income'] == 'medium']) /len(df))*100\n",
    "    \n",
    "df = pd.DataFrame({'name':['Bruno','Ariana','Harry','Selena','Weeknd'], 'gender':['M','F','M','F','M'], 'income':['low','high','medium','medium','medium']})\n",
    "#pd.DataFrame(eval(input()))\n",
    "print(calculate(df))"
   ]
  }
 ],
 "metadata": {
  "kernelspec": {
   "display_name": "Python 3 (ipykernel)",
   "language": "python",
   "name": "python3"
  },
  "language_info": {
   "codemirror_mode": {
    "name": "ipython",
    "version": 3
   },
   "file_extension": ".py",
   "mimetype": "text/x-python",
   "name": "python",
   "nbconvert_exporter": "python",
   "pygments_lexer": "ipython3",
   "version": "3.9.13"
  }
 },
 "nbformat": 4,
 "nbformat_minor": 5
}
